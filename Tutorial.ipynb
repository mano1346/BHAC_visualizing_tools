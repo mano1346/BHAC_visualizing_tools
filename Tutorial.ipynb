{
 "cells": [
  {
   "cell_type": "code",
   "execution_count": 1,
   "id": "d65ad9b7-c360-4a6b-a041-82bb6b8dd219",
   "metadata": {},
   "outputs": [
    {
     "name": "stdout",
     "output_type": "stream",
     "text": [
      "pygame 2.5.2 (SDL 2.28.2, Python 3.11.7)\n",
      "Hello from the pygame community. https://www.pygame.org/contribute.html\n"
     ]
    }
   ],
   "source": [
    "import Visualizing_tools as vt\n",
    "import numpy as np\n",
    "import matplotlib.pyplot as plt\n"
   ]
  },
  {
   "cell_type": "markdown",
   "id": "dba14590",
   "metadata": {},
   "source": [
    "# Step 1)\n",
    "Define the function that draws from the right folder and \n",
    "loads the right variabeles."
   ]
  },
  {
   "cell_type": "code",
   "execution_count": 2,
   "id": "538671ab",
   "metadata": {},
   "outputs": [],
   "source": [
    "def change_data(i):\n",
    "    data = vt.get_data(i, 'MAD/output/data', 'MAD/amrvac.par')\n",
    "    data.load_var('d')\n",
    "    data.load_var('lfac')\n",
    "    data.load_var('b1')\n",
    "    data.load_var('b2')\n",
    "    data.load_var('b3')\n",
    "    var = np.vstack((data.data['b1'],data.data['b2'],data.data['b3'],data.data['d']/data.data['lfac']))\n",
    "\n",
    "    vt.set_var(data,var)\n",
    "\n",
    "change_data(3510)"
   ]
  },
  {
   "cell_type": "markdown",
   "id": "a01ff526",
   "metadata": {},
   "source": [
    "# Step 2)\n",
    "Define the transfer function and variable function (this function can \n",
    "be used to apply metric elements if needed)."
   ]
  },
  {
   "cell_type": "code",
   "execution_count": 9,
   "id": "39897fff",
   "metadata": {},
   "outputs": [],
   "source": [
    "def tf_func(x):\n",
    "    a = (\n",
    "        0.8*np.exp( -(x - 0.9)**2/(2*(0.1**2))) \n",
    "        +0.6*np.exp( -(x - 0.7)**2/(2*(0.03**2))) \n",
    "        + 0.3*np.exp( -(x - 0.55)**2/(2*(0.03**2)))\n",
    "        + 0.3*np.exp( -(x - 0.4)**2/(2*(0.04**2)))\n",
    "        +0.05*np.exp( -(x - 0.25)**2/(2*(0.08**2)))\n",
    "    )\n",
    "    return a\n",
    "\n",
    "def var_func(r, theta, phi, var):\n",
    "    b1,b2,b3, rho = var[0], var[1], var[2], var[3]\n",
    "    B2 = (b1 * b1 * np.exp(2*r)) + (b2 * b2 * np.exp(r)**2) + (b3 * b3 * (np.exp(r) * np.sin(theta))**2)\n",
    "    return np.log10(B2/rho)\n",
    "\n",
    "vt.set_var_func(var_func)"
   ]
  },
  {
   "cell_type": "code",
   "execution_count": 11,
   "id": "22fe6d9e-139e-4fc7-ad49-c8fbeb70909b",
   "metadata": {},
   "outputs": [],
   "source": [
    "cmap = plt.get_cmap('gist_ncar')\n",
    "vt.set_cmap(cmap)    "
   ]
  },
  {
   "cell_type": "markdown",
   "id": "6f749430",
   "metadata": {},
   "source": [
    "# Step 3)\n",
    "Initialize visual tool and the prefered method."
   ]
  },
  {
   "cell_type": "code",
   "execution_count": 12,
   "id": "490fa56d",
   "metadata": {},
   "outputs": [],
   "source": [
    "\n",
    "min_max = [-4,2]\n",
    "\n",
    "p1 = vt.VisTool(min_max_var=min_max,resolution=[100,100])\n",
    "p1.volume(250,250,250, [0, 0, 0], [1., 0.,0.], [0., 1., 0.], \"$log_{10}(\\\\frac{B^2}{\\\\rho})$\",tf_func, pos_scene=(-40,20,20), scale=(0.18,0.18,0.18),  depth=100)\n"
   ]
  },
  {
   "cell_type": "markdown",
   "id": "27f47264",
   "metadata": {},
   "source": [
    "# Step 4)\n",
    "Plot the visuals by initialzing the graphics engine app and plotting. (Note: the plot function requires the range of indices of the .dat files that have to be computed)"
   ]
  },
  {
   "cell_type": "code",
   "execution_count": 13,
   "id": "195a7c52",
   "metadata": {},
   "outputs": [],
   "source": [
    "camPos = (     0,       30,      59.7728 )\n",
    "p1.app(camPos=camPos, show_screen=False)"
   ]
  },
  {
   "cell_type": "code",
   "execution_count": 14,
   "id": "ed3232ae",
   "metadata": {},
   "outputs": [
    {
     "name": "stdout",
     "output_type": "stream",
     "text": [
      "frames/frame3510.png - Took 8.01 sec\n"
     ]
    }
   ],
   "source": [
    "p1.plot(change_data,start_data=3510, end_data=3511, save_image=True, foldername=\"frames/\", format=\".png\")"
   ]
  },
  {
   "cell_type": "code",
   "execution_count": null,
   "id": "e28d81f7",
   "metadata": {},
   "outputs": [],
   "source": []
  }
 ],
 "metadata": {
  "kernelspec": {
   "display_name": "Python 3 (ipykernel)",
   "language": "python",
   "name": "python3"
  },
  "language_info": {
   "codemirror_mode": {
    "name": "ipython",
    "version": 3
   },
   "file_extension": ".py",
   "mimetype": "text/x-python",
   "name": "python",
   "nbconvert_exporter": "python",
   "pygments_lexer": "ipython3",
   "version": "3.11.7"
  }
 },
 "nbformat": 4,
 "nbformat_minor": 5
}
